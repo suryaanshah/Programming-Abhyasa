{
  "nbformat": 4,
  "nbformat_minor": 0,
  "metadata": {
    "colab": {
      "name": "Indian Computational Olypiad",
      "provenance": []
    },
    "kernelspec": {
      "name": "python3",
      "display_name": "Python 3"
    },
    "language_info": {
      "name": "python"
    }
  },
  "cells": [
    {
      "cell_type": "markdown",
      "metadata": {
        "id": "cR01xdSv7JeO"
      },
      "source": [
        "# [Indian Computing OLympiad](https://www.iarcs.org.in/inoi)\n",
        "## Problem 1: [Lead Game](https://www.codechef.com/IARCSJUD/problems/LEADGAME)"
      ]
    },
    {
      "cell_type": "markdown",
      "metadata": {
        "id": "gbRsLYOm7cbN"
      },
      "source": [
        "### Method:\n",
        "1. Given the list of scores(there will always be 2 players), we see which is greater and then we subtract smaller from greater and the store it in a list with the player name\n",
        "\n",
        "\n",
        "2. We see the highest lead and the see who has it and then report the answer.\n",
        "\n",
        "\n",
        "```python\n",
        "if max(p1)>max(p2):\n",
        "    print(\"1\", max(p1))\n",
        "elif max(p2)>max(p1):\n",
        "    print(\"2\", max(p2))\n",
        "```\n",
        "\n"
      ]
    },
    {
      "cell_type": "code",
      "metadata": {
        "colab": {
          "base_uri": "https://localhost:8080/"
        },
        "id": "uvl4Q8S1DlAC",
        "outputId": "e1f4b0dd-8db2-40d9-a637-fb0386c5a12d"
      },
      "source": [
        "def SiruseriAnnual():\n",
        "  # Taking no. of rounds\n",
        "  try:\n",
        "    N=int(input(\"Please enter the no. of rounds:  \"))\n",
        "  except:\n",
        "    print(\"Please enter and integer. You may require rerunning this program.\")\n",
        "\n",
        "  # To record the lead of each player in each round\n",
        "  p1=[]\n",
        "  p2=[]\n",
        "\n",
        "  # Taking the scores in each line\n",
        "  for i in range(N):\n",
        "    scores = list(map(int,input(\"Please enter the score in this round: \").strip().split()))[:2]\n",
        "    lead=scores[0]-scores[1]\n",
        "    if lead<0:\n",
        "     p2.append(abs(lead))\n",
        "    else:\n",
        "      p1.append(abs(lead))\n",
        "\n",
        "  # Comparing the leads and returning result\n",
        "  if max(p1)>max(p2):\n",
        "    print(\"1\", max(p1))\n",
        "  else:\n",
        "    print(\"2\", max(p2))\n",
        "SiruseriAnnual()"
      ],
      "execution_count": 2,
      "outputs": [
        {
          "output_type": "stream",
          "text": [
            "Please enter the no. of rounds:  2\n",
            "Please enter the score in this round: 1 4\n",
            "Please enter the score in this round: 25 1\n",
            "1 24\n"
          ],
          "name": "stdout"
        }
      ]
    }
  ]
}
