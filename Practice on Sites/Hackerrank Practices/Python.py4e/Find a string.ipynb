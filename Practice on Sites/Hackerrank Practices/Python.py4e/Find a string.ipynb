{
  "nbformat": 4,
  "nbformat_minor": 0,
  "metadata": {
    "colab": {
      "name": "Untitled2.ipynb",
      "provenance": []
    },
    "kernelspec": {
      "name": "python3",
      "display_name": "Python 3"
    }
  },
  "cells": [
    {
      "cell_type": "markdown",
      "metadata": {
        "id": "rlQ4BfarSqsz"
      },
      "source": [
        "[Finding Sub string in a string.](https://www.hackerrank.com/challenges/find-a-string/problem)"
      ]
    },
    {
      "cell_type": "markdown",
      "metadata": {
        "id": "cwPciRCOTjTj"
      },
      "source": [
        "# Method 1(simple to understand, for loops)\r\n",
        "1. Defining a variable count.\r\n",
        "2. Repeating the indented text length of the string times.\r\n",
        "3. If we found our sustring from i(the iterator) to the last letter in our string, we add 1 to the string."
      ]
    },
    {
      "cell_type": "code",
      "metadata": {
        "id": "j8e_AsMJSn1p",
        "colab": {
          "base_uri": "https://localhost:8080/"
        },
        "outputId": "51054e5e-be7f-4e78-ae2a-b83ce27b47cf"
      },
      "source": [
        "def count_substring(string, sub_string):\r\n",
        "    count = 0 \r\n",
        "    for i in range(len(string)):\r\n",
        "        if string[i:].startswith(sub_string):\r\n",
        "            count += 1\r\n",
        "    return(count)\r\n",
        "if __name__ == '__main__':\r\n",
        "    string = input().strip()\r\n",
        "    sub_string = input().strip()\r\n",
        "    \r\n",
        "    count = count_substring(string, sub_string)\r\n",
        "    print(count)"
      ],
      "execution_count": 2,
      "outputs": [
        {
          "output_type": "stream",
          "text": [
            "hellohellohellohellohello\n",
            "el\n",
            "5\n"
          ],
          "name": "stdout"
        }
      ]
    },
    {
      "cell_type": "markdown",
      "metadata": {
        "id": "BZTJmP0_VY7s"
      },
      "source": [
        "# Method 2(List comprehensions|Sophisticated|One-Liner|Complex)\r\n",
        "1. Computing the count by substracting the length of smaller string from bigger string.\r\n",
        "2. For each slide, we compare that part of bigger string with our smaller string and append 1 in a list if match found.\r\n",
        "3. Adding the list elements and getting the total number.\r\n",
        "## Note: In method 1, to count the number of times, we created a variale and kept adding 1 to it. But here, we made a list and kept appending 1 to it and them summed up all those 1s."
      ]
    },
    {
      "cell_type": "code",
      "metadata": {
        "colab": {
          "base_uri": "https://localhost:8080/"
        },
        "id": "5lyAaDExWqgK",
        "outputId": "89d51d36-a2f6-4bfb-b117-0672555a522e"
      },
      "source": [
        "string, substring = (input().strip(), input().strip())\r\n",
        "print(sum([ 1 for i in range(len(string)-len(substring)+1) if string[i:i+len(substring)] == substring]))"
      ],
      "execution_count": 4,
      "outputs": [
        {
          "output_type": "stream",
          "text": [
            "hellohellohellohello\n",
            "el\n",
            "4\n"
          ],
          "name": "stdout"
        }
      ]
    }
  ]
}
