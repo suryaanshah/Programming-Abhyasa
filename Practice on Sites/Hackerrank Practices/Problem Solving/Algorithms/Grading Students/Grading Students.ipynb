{
  "nbformat": 4,
  "nbformat_minor": 0,
  "metadata": {
    "colab": {
      "name": "Untitled2.ipynb",
      "provenance": []
    },
    "kernelspec": {
      "name": "python3",
      "display_name": "Python 3"
    }
  },
  "cells": [
    {
      "cell_type": "markdown",
      "metadata": {
        "id": "F_H0vwDxbj6x"
      },
      "source": [
        "# Solution in python3"
      ]
    },
    {
      "cell_type": "code",
      "metadata": {
        "id": "uXkbRLoDbr4s"
      },
      "source": [
        "# Importing Modules\r\n",
        "import math\r\n",
        "import os\r\n",
        "import random\r\n",
        "import re\r\n",
        "import sys"
      ],
      "execution_count": null,
      "outputs": []
    },
    {
      "cell_type": "markdown",
      "metadata": {
        "id": "L-y6n1Aibptb"
      },
      "source": [
        "Inputs: INTEGER_ARRAY grades as parameter.\r\n",
        "Output: return an INTEGER_ARRAY."
      ]
    },
    {
      "cell_type": "markdown",
      "metadata": {
        "id": "y47TMEoXcCd3"
      },
      "source": [
        "Is grade<40? If yes: move on, if not:    \r\n",
        "    I have 2 methods in my mind:\r\n",
        "    1. I know the next multiple of 5 then I calculate the difference and if that is <3 then I round off else I leave it as it is.\r\n",
        "    2. I add +1, +2, +3 on the input and if any of it is a multiple of 5, I round it off, else I move on.\r\n",
        "    "
      ]
    },
    {
      "cell_type": "code",
      "metadata": {
        "id": "VMhUJc2_b4dN"
      },
      "source": [
        "def gradingStudents(grades):\r\n",
        "  for mark, i in enumerate(grades):\r\n",
        "        if (i+ 1)%5==0 and (grades[mark]+1)>=40:\r\n",
        "            grades[mark]+=1\r\n",
        "        elif (i + 2)%5==0 and (grades[mark]+2)>=40:\r\n",
        "            grades[mark]+=2\r\n",
        "    return(grades)"
      ],
      "execution_count": null,
      "outputs": []
    },
    {
      "cell_type": "code",
      "metadata": {
        "id": "Fz_C86CPcbq5"
      },
      "source": [
        "if __name__ == '__main__':\r\n",
        "    fptr = open(os.environ['OUTPUT_PATH'], 'w')\r\n",
        "\r\n",
        "    grades_count = int(input().strip())\r\n",
        "\r\n",
        "    grades = []\r\n",
        "\r\n",
        "    for _ in range(grades_count):\r\n",
        "        grades_item = int(input().strip())\r\n",
        "        grades.append(grades_item)\r\n",
        "\r\n",
        "    result = gradingStudents(grades)\r\n",
        "\r\n",
        "    fptr.write('\\n'.join(map(str, result)))\r\n",
        "    fptr.write('\\n')\r\n",
        "\r\n",
        "    fptr.close()\r\n"
      ],
      "execution_count": null,
      "outputs": []
    }
  ]
}