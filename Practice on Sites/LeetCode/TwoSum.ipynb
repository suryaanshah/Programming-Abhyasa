{
  "nbformat": 4,
  "nbformat_minor": 0,
  "metadata": {
    "colab": {
      "name": "Untitled3.ipynb",
      "provenance": []
    },
    "kernelspec": {
      "name": "python3",
      "display_name": "Python 3"
    }
  },
  "cells": [
    {
      "cell_type": "markdown",
      "metadata": {
        "id": "mQj3340aUMb9"
      },
      "source": [
        "# Question:\r\n",
        "Given an array of integers `nums` and an integer `target`, return indices of the two numbers such that they add up to `target`.\r\n",
        "\r\n",
        "**You may assume that each input would have exactly one solution, and you may not use the same element twice.**\r\n",
        "\r\n",
        "**You can return the answer in any order.**\r\n",
        "\r\n",
        " \r\n",
        "\r\n",
        "Example 1:\r\n",
        "``` python\r\n",
        "Input: nums = [2,7,11,15], target = 9\r\n",
        "Output: [0,1]\r\n",
        "Output: Because nums[0] + nums[1] == 9, we return [0, 1]\r\n",
        "```\r\n",
        "Example 2:\r\n",
        "``` python\r\n",
        "Input: nums = [3,2,4], target = 6\r\n",
        "Output: [1,2]\r\n",
        "```\r\n",
        "Example 3:\r\n",
        "```python\r\n",
        "Input: nums = [3,3], target = 6\r\n",
        "Output: [0,1]\r\n",
        "```\r\n",
        "\r\n",
        " \r\n",
        "\r\n",
        "**Constraints:**\r\n",
        "\r\n",
        "    2 <= nums.length <= 103\r\n",
        "    -109 <= nums[i] <= 109\r\n",
        "    -109 <= target <= 109\r\n",
        "    Only one valid answer exists.\r\n",
        "\r\n"
      ]
    },
    {
      "cell_type": "markdown",
      "metadata": {
        "id": "2W_-RPWVVKtH"
      },
      "source": [
        "# Method 1(Loops)\r\n",
        "1. Take every index of `nums`.\r\n",
        "2. For every index, check every other index-value of `nums`.\r\n",
        "3.\r\n",
        "```python \r\n",
        "if index == target-your index:\r\n",
        "      return(#indexes of both)\r\n",
        "```"
      ]
    },
    {
      "cell_type": "code",
      "metadata": {
        "id": "F5GJiRghULH9"
      },
      "source": [
        "class Solution:\r\n",
        "    def twoSum(self, nums: List[int], target: int) -> List[int]:\r\n",
        "        Notes = {}\r\n",
        "        for index, value in enumerate(nums):\r\n",
        "            tofind= target-value\r\n",
        "            if tofind in Notes:\r\n",
        "                return [Notes[tofind], index]\r\n",
        "            Notes[value] = index"
      ],
      "execution_count": null,
      "outputs": []
    }
  ]
}
