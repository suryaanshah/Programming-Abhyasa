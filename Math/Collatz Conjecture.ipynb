{
  "nbformat": 4,
  "nbformat_minor": 0,
  "metadata": {
    "colab": {
      "name": "Untitled1.ipynb",
      "provenance": []
    },
    "kernelspec": {
      "name": "python3",
      "display_name": "Python 3"
    },
    "language_info": {
      "name": "python"
    }
  },
  "cells": [
    {
      "cell_type": "code",
      "metadata": {
        "colab": {
          "base_uri": "https://localhost:8080/"
        },
        "id": "BCbSbkjYhQJB",
        "outputId": "5a0ab19c-8ab2-45ad-a366-78d43dc4b4d7"
      },
      "source": [
        "start=int(input(\"enter the starting no. \"))\n",
        "while start!=1:\n",
        "  if start%2==0:\n",
        "    start=start/2\n",
        "  else:\n",
        "    start=3*start+1\n",
        "  print(start)"
      ],
      "execution_count": 4,
      "outputs": [
        {
          "output_type": "stream",
          "text": [
            "enter the starting no. 5\n",
            "16\n",
            "8.0\n",
            "4.0\n",
            "2.0\n",
            "1.0\n"
          ],
          "name": "stdout"
        }
      ]
    }
  ]
}